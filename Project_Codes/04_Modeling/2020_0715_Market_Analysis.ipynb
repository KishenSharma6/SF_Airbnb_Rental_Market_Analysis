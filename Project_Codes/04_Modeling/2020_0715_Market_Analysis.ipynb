{
 "cells": [
  {
   "cell_type": "markdown",
   "metadata": {},
   "source": [
    "### Introduction\n",
    "\n",
    "In the following notebook, I will be conducting a market analysis where I intend to look into the impact of COVID 19 "
   ]
  },
  {
   "cell_type": "markdown",
   "metadata": {},
   "source": [
    "**Read in libraries**"
   ]
  },
  {
   "cell_type": "code",
   "execution_count": null,
   "metadata": {},
   "outputs": [],
   "source": [
    "import numpy as np\n",
    "import pandas as pd\n",
    "import matplotlib.pyplot as plt\n",
    "import seaborn as sns"
   ]
  },
  {
   "cell_type": "markdown",
   "metadata": {},
   "source": [
    "**Set notebook preferences**"
   ]
  },
  {
   "cell_type": "code",
   "execution_count": null,
   "metadata": {},
   "outputs": [],
   "source": [
    "#Set pandas preferences\n",
    "pd.set_option('display.max_columns', 200)\n",
    "pd.set_option('display.max_rows', 200)\n",
    "#pd.options.display.float_format = '{:.2f}'.format\n",
    "\n",
    "#Set visualization preferences\n",
    "plt.style.use('Solarize_Light2')\n",
    "\n",
    "#Set path to save visualizations\n",
    "eda_path = r'C:\\Users\\kishe\\Documents\\Data Science\\Projects\\Python Projects\\In Progress\\Airbnb - San Francisco Listings Analysis\\Visualizations\\Modeling'"
   ]
  },
  {
   "cell_type": "markdown",
   "metadata": {},
   "source": [
    "**Read in data**"
   ]
  },
  {
   "cell_type": "code",
   "execution_count": null,
   "metadata": {},
   "outputs": [],
   "source": [
    "#Set path to local machine\n",
    "path = r'C:\\Users\\kishe\\Documents\\Data Science\\Projects\\Python Projects\\In Progress\\Airbnb - San Francisco Listings Analysis\\Data\\02_Cleaned'\n",
    "\n",
    "#Read in file\n",
    "df = pd.read_csv(path + '/2020_0715_Listings_Cleaned.csv', \n",
    "                parse_dates=['last_review'])\n",
    "\n",
    "#Sort data\n",
    "df.sort_values('last_review', inplace = True)"
   ]
  },
  {
   "cell_type": "markdown",
   "metadata": {},
   "source": [
    "### Data Overview"
   ]
  },
  {
   "cell_type": "markdown",
   "metadata": {},
   "source": [
    "**Preview Data**"
   ]
  },
  {
   "cell_type": "code",
   "execution_count": null,
   "metadata": {},
   "outputs": [],
   "source": [
    "#Display data, print shape\n",
    "print('Data shape:', df.shape)\n",
    "display(df.head(3))"
   ]
  },
  {
   "cell_type": "markdown",
   "metadata": {},
   "source": [
    "# COVID 19 Impact Analysis"
   ]
  },
  {
   "cell_type": "markdown",
   "metadata": {},
   "source": [
    "**Prepare data**"
   ]
  },
  {
   "cell_type": "code",
   "execution_count": null,
   "metadata": {},
   "outputs": [],
   "source": [
    "#Split last review into month - day col\n",
    "df[['year','month_day']] = df['last_review'].astype(str).str.split('-',1,expand=True)\n",
    "\n",
    "#Check\n",
    "df.iloc[:,-5:].head()"
   ]
  },
  {
   "cell_type": "markdown",
   "metadata": {},
   "source": [
    "## How did shutdown on 3/19/2020 Impact Airbnb Market in San Francisco?"
   ]
  },
  {
   "cell_type": "code",
   "execution_count": null,
   "metadata": {},
   "outputs": [],
   "source": [
    "#Get daily gross rental income and counts of bookings\n",
    "daily_gross = df.groupby('last_review')['price'].agg({'sum','count'})\n",
    "\n",
    "#Create fig\n",
    "f, ax = plt.subplots(2,1,figsize = (15,10))\n",
    "\n",
    "#Plot total revenue each day\n",
    "daily_gross['sum'].plot(ax=ax[0])\n",
    "ax[0].scatter('2020-03-19', 14443, color = 'red',  marker='x',s=300,  edgecolors='black',\n",
    ")\n",
    "\n",
    "#Set plot aesthetics\n",
    "ax[0].get_yaxis().set_major_formatter(plt.FuncFormatter(lambda x, loc: \"${:,}\".format(int(x))))\n",
    "ax[0].set_xlabel('')\n",
    "ax[0].set_title('Daily Airbnb Gross Rental Income (7/1/2018 - 6/1/2020)')\n",
    "ax[0].text('2020-04-19', 120_000, 'Shutdown Order\\nIssued 3/19/2020', fontsize=12,horizontalalignment='center',);\n",
    "\n",
    "\n",
    "#Plot total revenue each day\n",
    "daily_gross['count'].plot(ax=ax[1])\n",
    "\n",
    "#Add text for Shut down\n",
    "X='2020-03-19'\n",
    "Y = daily_gross['count'].iloc[daily_gross.index == '2020-03-19']\n",
    "ax[1].scatter(X,Y, color = 'red',  marker='x',s=300,  edgecolors='black')\n",
    "\n",
    "#Set plot aesthetics\n",
    "ax[1].get_yaxis().set_major_formatter(plt.FuncFormatter(lambda x, loc: \"{:,}\".format(int(x))))\n",
    "ax[1].set_xlabel('')\n",
    "ax[1].set_title('Daily Rentals (7/1/2018 - 6/1/2020)')\n",
    "\n",
    "ax[1].text('2020-03-20' ,Y + 155, 'Shutdown Order\\nIssued 3/19/2020', fontsize=12,horizontalalignment='left',);\n",
    "\n",
    "#Save to Visualizations file\n",
    "plt.savefig(eda_path + '/covid_timeseries.png', bbox_inches='tight')"
   ]
  },
  {
   "cell_type": "markdown",
   "metadata": {},
   "source": [
    "**Impact of COVID - Comparing post 3/19/2020 shutdown to 2019 Numbers"
   ]
  },
  {
   "cell_type": "code",
   "execution_count": null,
   "metadata": {},
   "outputs": [],
   "source": [
    "#Capture 2020 daily gross income data after shutdown. Capture 2019 daily gross income data for year prior\n",
    "shutdown_impact = pd.DataFrame({'daily_gross_2020': daily_gross.iloc[627:]['sum'].values, 'daily_gross_2019': daily_gross.iloc[261:342]['sum'].values},\n",
    "                              daily_gross.iloc[627:].index)\n",
    "shutdown_impact['net_loss'] = shutdown_impact.iloc[:,0] - shutdown_impact.iloc[:,1]\n",
    "\n",
    "#Capture total loss and percent loss during this period\n",
    "total_loss = np.sum(shutdown_impact.net_loss)\n",
    "loss_percentage = np.sum(shutdown_impact.net_loss)/np.sum(shutdown_impact.daily_gross_2019)\n",
    "\n",
    "#check\n",
    "display(shutdown_impact.head())"
   ]
  },
  {
   "cell_type": "code",
   "execution_count": null,
   "metadata": {},
   "outputs": [],
   "source": [
    "#Create figure\n",
    "f, ax = plt.subplots(2,1, figsize = (15,20))\n",
    "\n",
    "#Plot time series trend of shutdown and 2019 statistics\n",
    "shutdown_impact[['daily_gross_2020','daily_gross_2019']].plot(ax=ax[0], color = ['red','blue'])\n",
    "\n",
    "#Set ax[0]plot aesthetics\n",
    "ax[0].set_title('Daily Gross Renatal Income\\nComparing 2020 Shutdown to 2019 Statistics')\n",
    "ax[0].set_xlabel('')\n",
    "ax[0].set_ylabel('price')\n",
    "ax[0].get_yaxis().set_major_formatter(plt.FuncFormatter(lambda x, loc: \"${:,}\".format(int(x))))\n",
    "ax[0].legend(['2020 Gross','2019 Gross'],frameon = True, shadow=True)\n",
    "\n",
    "#Plot losses \n",
    "shutdown_impact.net_loss.plot(kind = 'bar', ax=ax[1], color = 'r', alpha = .7)\n",
    "shutdown_impact.daily_gross_2020.plot(kind = 'bar', ax=ax[1], color ='b',alpha = .8)\n",
    "\n",
    "#Set ax[1] plot aesthetics\n",
    "ax[1].set_title('Net Daily Income 2020 during Shutdown(3/19/2020 - 6/7/2020)\\nTotal Loss: ${} Percent Loss:{}%'.format(\n",
    "                    round(total_loss,2), round(loss_percentage,4) * 100))\n",
    "ax[1].set_xlabel('')\n",
    "ax[1].tick_params(axis='x',  which='major',  bottom=False,  top=False,  labelbottom=False)\n",
    "ax[1].set_ylabel('price')\n",
    "ax[1].get_yaxis().set_major_formatter(plt.FuncFormatter(lambda x, loc: \"${:,}\".format(int(x))))\n",
    "ax[1].grid(b = False, which = 'major', axis = 'x')\n",
    "#ax[1].legend(['2020 Income', '2020 Losses'],frameon = True, shadow=True)\n",
    "\n",
    "#Save to Visualizations file\n",
    "plt.savefig(eda_path + '/covid_impactQ2.png', bbox_inches='tight')"
   ]
  },
  {
   "cell_type": "markdown",
   "metadata": {},
   "source": [
    "# Projected Q2, Q3, and Q4 Losses if 88.21% loss Trend continues"
   ]
  },
  {
   "cell_type": "markdown",
   "metadata": {},
   "source": [
    "Extrappolating 88% loss through the end of q2(assuming no changes to lockdown), what do Q2 losses look like? What if trend continues through Q3 and 4?"
   ]
  },
  {
   "cell_type": "markdown",
   "metadata": {},
   "source": [
    "**Prepare data**"
   ]
  },
  {
   "cell_type": "code",
   "execution_count": null,
   "metadata": {},
   "outputs": [],
   "source": [
    "#Create data frame with 2019 Q2 - Q4 stats\n",
    "loss_projections = pd.DataFrame(daily_gross['sum'].iloc[274:549].values, columns=['2019_Q2-Q4'],index=np.arange(np.datetime64('2020-04-01'), np.datetime64('2021-01-01')))\n",
    "\n",
    "#Append 2020 stats. Fill remainder with 2019 stat w/ 88.21% loss\n",
    "loss_projections['2020_projections'] = daily_gross['sum'].iloc[640:]\n",
    "loss_projections['2020_projections'].fillna(loss_projections['2019_Q2-Q4'] *.11790000000000006, inplace = True)\n",
    "loss_projections['projected_loss'] = loss_projections.iloc[:,1] - loss_projections.iloc[:,0] \n",
    "\n",
    "#Add quarter flag\n",
    "loss_projections.reset_index(inplace = True)\n",
    "loss_projections['quarter'] = loss_projections['index'].dt.quarter\n",
    "loss_projections.set_index('index', inplace = True)\n",
    "\n",
    "#Check\n",
    "display(loss_projections.head())"
   ]
  },
  {
   "cell_type": "markdown",
   "metadata": {},
   "source": [
    "**Plot data**"
   ]
  },
  {
   "cell_type": "code",
   "execution_count": null,
   "metadata": {},
   "outputs": [],
   "source": [
    "#Create figure\n",
    "f, ax = plt.subplots(6,1,figsize = (20,50))\n",
    "\n",
    "#Plot projections\n",
    "for i, q in zip(list(np.arange(0,6,2)), np.arange(2,5)):\n",
    "    loss_projections[['2019_Q2-Q4', '2020_projections']].loc[(loss_projections.quarter == q)].plot(alpha = .8, linewidth = 2,\n",
    "        ax=ax[i], color = ['blue','red'])\n",
    "    #Set ax[0]plot aesthetics\n",
    "    ax[i].set_title('Daily Rental Income\\n2019 Q{} Vs 2020 Q{} Projections'.format(q,q))\n",
    "    ax[i].set_xlabel('')\n",
    "    ax[i].set_ylabel('')\n",
    "    ax[i].get_yaxis().set_major_formatter(plt.FuncFormatter(lambda x, loc: \"${:,}\".format(int(x))))\n",
    "    ax[i].legend(['Q{} 2019 Gross'.format(q),'Q{} 2020 Projection'.format(q)],frameon = True, shadow=True)\n",
    "    \n",
    "    loss_projections.loc[(loss_projections.quarter == q)][['2020_projections','projected_loss']].plot(\n",
    "        color = ['blue','red'], kind = 'bar', ax=ax[i + 1], alpha = .8)\n",
    "    \n",
    "    quarter_loss = np.sum(loss_projections.loc[(loss_projections.quarter == q)].projected_loss)\n",
    "    \n",
    "    #Set ax[1]plot aesthetics\n",
    "    ax[i+1].set_title('Total Projected Loss for Q{}: ${:,}'.format(q,\n",
    "                    round(quarter_loss,2)))\n",
    "    ax[i+1].set_xlabel('')\n",
    "    ax[i+1].tick_params(axis='x',  which='major',  bottom=False,  top=False,  labelbottom=False)\n",
    "    ax[i+1].set_ylabel('')\n",
    "    ax[i+1].get_yaxis().set_major_formatter(plt.FuncFormatter(lambda x, loc: \"${:,}\".format(int(x))))\n",
    "    ax[i+1].legend(['2020 Q{} Projected Income'.format(q),'2020 Q{} Projected Loss'.format(q)],frameon = True, shadow=True, loc = 'lower right')\n",
    "    ax[i+1].grid(b = False, which = 'major', axis = 'x')\n",
    "    \n",
    "#Save to Visualizations file\n",
    "plt.savefig(eda_path + '/quarter_projections.png', bbox_inches='tight')"
   ]
  }
 ],
 "metadata": {
  "kernelspec": {
   "display_name": "Airbnb_Listings",
   "language": "python",
   "name": "airbnb_listings"
  },
  "language_info": {
   "codemirror_mode": {
    "name": "ipython",
    "version": 3
   },
   "file_extension": ".py",
   "mimetype": "text/x-python",
   "name": "python",
   "nbconvert_exporter": "python",
   "pygments_lexer": "ipython3",
   "version": "3.7.7"
  }
 },
 "nbformat": 4,
 "nbformat_minor": 4
}
