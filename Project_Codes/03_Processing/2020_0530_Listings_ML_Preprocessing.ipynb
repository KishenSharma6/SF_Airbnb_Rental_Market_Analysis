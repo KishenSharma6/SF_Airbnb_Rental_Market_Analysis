{
 "cells": [
  {
   "cell_type": "markdown",
   "metadata": {},
   "source": [
    "## Introduction\n",
    "\n",
    "In the following notebook, I will be preparing Listings data pertaining to San Francisco Airbnb's. Raw data can be found [here](http://insideairbnb.com/get-the-data.html).\n"
   ]
  },
  {
   "cell_type": "markdown",
   "metadata": {},
   "source": [
    "**Read in libraries**"
   ]
  },
  {
   "cell_type": "code",
   "execution_count": 1,
   "metadata": {},
   "outputs": [
    {
     "name": "stderr",
     "output_type": "stream",
     "text": [
      "C:\\Users\\kishe\\AppData\\Roaming\\Python\\Python37\\site-packages\\statsmodels\\tools\\_testing.py:19: FutureWarning: pandas.util.testing is deprecated. Use the functions in the public API at pandas.testing instead.\n",
      "  import pandas.util.testing as tm\n"
     ]
    }
   ],
   "source": [
    "import pandas as pd\n",
    "import numpy as np\n",
    "import matplotlib.pyplot as plt\n",
    "import seaborn as sns"
   ]
  },
  {
   "cell_type": "markdown",
   "metadata": {},
   "source": [
    "**Set notebook preferences**"
   ]
  },
  {
   "cell_type": "code",
   "execution_count": 2,
   "metadata": {},
   "outputs": [],
   "source": [
    "#Set options for pandas\n",
    "pd.set_option('display.max_columns',1_000)\n",
    "pd.set_option('display.max_rows',500)\n",
    "pd.set_option('display.max_colwidth', 200)\n",
    "\n",
    "#Set style for plot\n",
    "plt.style.use('ggplot')\n",
    "\n",
    "#Set path to visuals from EDA\n",
    "visualizations = r'C:\\Users\\kishe\\Documents\\Data Science\\Projects\\Python Projects\\In Progress\\Airbnb - San Francisco Listings Analysis\\Visualizations\\Exploratory_Data_Analysis'"
   ]
  },
  {
   "cell_type": "markdown",
   "metadata": {},
   "source": [
    "**Read in data**"
   ]
  },
  {
   "cell_type": "code",
   "execution_count": 3,
   "metadata": {},
   "outputs": [],
   "source": [
    "#Set path to data\n",
    "path = r'C:\\Users\\kishe\\Documents\\Data Science\\Projects\\Python Projects\\In Progress\\Airbnb - San Francisco Listings Analysis\\Data\\02_Cleaned'\n",
    "\n",
    "#Read in data\n",
    "df = pd.read_csv(path + '/2020_0715_Listings_Cleaned.csv', parse_dates=['last_review'],\n",
    "                 dtype = {'zipcode':'object'}\n",
    "                )"
   ]
  },
  {
   "cell_type": "markdown",
   "metadata": {},
   "source": [
    "### Data Overview"
   ]
  },
  {
   "cell_type": "code",
   "execution_count": 4,
   "metadata": {},
   "outputs": [
    {
     "name": "stdout",
     "output_type": "stream",
     "text": [
      "Data shape: (126258, 48)\n"
     ]
    },
    {
     "data": {
      "text/html": [
       "<div>\n",
       "<style scoped>\n",
       "    .dataframe tbody tr th:only-of-type {\n",
       "        vertical-align: middle;\n",
       "    }\n",
       "\n",
       "    .dataframe tbody tr th {\n",
       "        vertical-align: top;\n",
       "    }\n",
       "\n",
       "    .dataframe thead th {\n",
       "        text-align: right;\n",
       "    }\n",
       "</style>\n",
       "<table border=\"1\" class=\"dataframe\">\n",
       "  <thead>\n",
       "    <tr style=\"text-align: right;\">\n",
       "      <th></th>\n",
       "      <th>accommodates</th>\n",
       "      <th>amenities</th>\n",
       "      <th>availability_30</th>\n",
       "      <th>availability_365</th>\n",
       "      <th>availability_60</th>\n",
       "      <th>availability_90</th>\n",
       "      <th>bathrooms</th>\n",
       "      <th>bed_type</th>\n",
       "      <th>bedrooms</th>\n",
       "      <th>beds</th>\n",
       "      <th>calculated_host_listings_count</th>\n",
       "      <th>calculated_host_listings_count_private_rooms</th>\n",
       "      <th>calculated_host_listings_count_shared_rooms</th>\n",
       "      <th>cancellation_policy</th>\n",
       "      <th>city</th>\n",
       "      <th>cleaning_fee</th>\n",
       "      <th>extra_people</th>\n",
       "      <th>guests_included</th>\n",
       "      <th>host_has_profile_pic</th>\n",
       "      <th>host_id</th>\n",
       "      <th>host_identity_verified</th>\n",
       "      <th>host_is_superhost</th>\n",
       "      <th>host_name</th>\n",
       "      <th>host_response_rate</th>\n",
       "      <th>host_response_time</th>\n",
       "      <th>host_verifications</th>\n",
       "      <th>id</th>\n",
       "      <th>instant_bookable</th>\n",
       "      <th>is_location_exact</th>\n",
       "      <th>last_review</th>\n",
       "      <th>latitude</th>\n",
       "      <th>longitude</th>\n",
       "      <th>maximum_nights</th>\n",
       "      <th>minimum_nights</th>\n",
       "      <th>monthly_price</th>\n",
       "      <th>neighbourhood_cleansed</th>\n",
       "      <th>number_of_reviews</th>\n",
       "      <th>price</th>\n",
       "      <th>property_type</th>\n",
       "      <th>require_guest_phone_verification</th>\n",
       "      <th>require_guest_profile_picture</th>\n",
       "      <th>requires_license</th>\n",
       "      <th>review_scores_rating</th>\n",
       "      <th>reviews_per_month</th>\n",
       "      <th>room_type</th>\n",
       "      <th>security_deposit</th>\n",
       "      <th>weekly_price</th>\n",
       "      <th>zipcode</th>\n",
       "    </tr>\n",
       "  </thead>\n",
       "  <tbody>\n",
       "    <tr>\n",
       "      <th>0</th>\n",
       "      <td>3</td>\n",
       "      <td>TV, Cable TV ,Internet,Wifi,Kitchen, Pets live on this property ,Dog(s),Heating, Family/kid friendly ,Washer,Dryer, Smoke detector , Carbon monoxide detector , First aid kit ,Essentials,Shampoo, ...</td>\n",
       "      <td>0</td>\n",
       "      <td>77</td>\n",
       "      <td>0</td>\n",
       "      <td>1</td>\n",
       "      <td>1.0</td>\n",
       "      <td>Real Bed</td>\n",
       "      <td>1.0</td>\n",
       "      <td>2.0</td>\n",
       "      <td>1</td>\n",
       "      <td>0.0</td>\n",
       "      <td>0.0</td>\n",
       "      <td>moderate</td>\n",
       "      <td>San Francisco</td>\n",
       "      <td>100.0</td>\n",
       "      <td>25.0</td>\n",
       "      <td>2</td>\n",
       "      <td>1.0</td>\n",
       "      <td>1169</td>\n",
       "      <td>1.0</td>\n",
       "      <td>1.0</td>\n",
       "      <td>Holly</td>\n",
       "      <td>100.0</td>\n",
       "      <td>within an hour</td>\n",
       "      <td>email ,  phone ,  facebook ,  reviews ,  kba</td>\n",
       "      <td>958</td>\n",
       "      <td>1</td>\n",
       "      <td>1</td>\n",
       "      <td>2019-03-16</td>\n",
       "      <td>37.76931</td>\n",
       "      <td>-122.43386</td>\n",
       "      <td>30</td>\n",
       "      <td>1</td>\n",
       "      <td>4200.0</td>\n",
       "      <td>Western Addition</td>\n",
       "      <td>183</td>\n",
       "      <td>170.0</td>\n",
       "      <td>Apartment</td>\n",
       "      <td>0</td>\n",
       "      <td>0</td>\n",
       "      <td>1</td>\n",
       "      <td>97.0</td>\n",
       "      <td>1.55</td>\n",
       "      <td>Entire home/apt</td>\n",
       "      <td>100.0</td>\n",
       "      <td>1120.0</td>\n",
       "      <td>94117</td>\n",
       "    </tr>\n",
       "    <tr>\n",
       "      <th>1</th>\n",
       "      <td>2</td>\n",
       "      <td>TV,Internet,Wifi,Kitchen, Free street parking ,Heating, Family/kid friendly ,Washer,Dryer, Smoke detector , Carbon monoxide detector , Fire extinguisher , Lock on bedroom door , Private entrance ...</td>\n",
       "      <td>30</td>\n",
       "      <td>365</td>\n",
       "      <td>60</td>\n",
       "      <td>90</td>\n",
       "      <td>4.0</td>\n",
       "      <td>Real Bed</td>\n",
       "      <td>1.0</td>\n",
       "      <td>1.0</td>\n",
       "      <td>9</td>\n",
       "      <td>9.0</td>\n",
       "      <td>0.0</td>\n",
       "      <td>strict 14 with grace period</td>\n",
       "      <td>San Francisco</td>\n",
       "      <td>50.0</td>\n",
       "      <td>12.0</td>\n",
       "      <td>1</td>\n",
       "      <td>1.0</td>\n",
       "      <td>21994</td>\n",
       "      <td>1.0</td>\n",
       "      <td>0.0</td>\n",
       "      <td>Aaron</td>\n",
       "      <td>100.0</td>\n",
       "      <td>within a few hours</td>\n",
       "      <td>email ,  phone ,  reviews ,  jumio ,  government id</td>\n",
       "      <td>8142</td>\n",
       "      <td>0</td>\n",
       "      <td>1</td>\n",
       "      <td>2018-09-12</td>\n",
       "      <td>37.76487</td>\n",
       "      <td>-122.45183</td>\n",
       "      <td>90</td>\n",
       "      <td>32</td>\n",
       "      <td>1685.0</td>\n",
       "      <td>Haight Ashbury</td>\n",
       "      <td>8</td>\n",
       "      <td>65.0</td>\n",
       "      <td>Apartment</td>\n",
       "      <td>0</td>\n",
       "      <td>0</td>\n",
       "      <td>1</td>\n",
       "      <td>93.0</td>\n",
       "      <td>0.14</td>\n",
       "      <td>Private room</td>\n",
       "      <td>200.0</td>\n",
       "      <td>490.0</td>\n",
       "      <td>94117</td>\n",
       "    </tr>\n",
       "    <tr>\n",
       "      <th>2</th>\n",
       "      <td>5</td>\n",
       "      <td>TV,Internet,Wifi,Kitchen,Heating, Family/kid friendly , Smoke detector , Carbon monoxide detector , First aid kit , Safety card , Fire extinguisher</td>\n",
       "      <td>30</td>\n",
       "      <td>90</td>\n",
       "      <td>60</td>\n",
       "      <td>90</td>\n",
       "      <td>1.5</td>\n",
       "      <td>Real Bed</td>\n",
       "      <td>2.0</td>\n",
       "      <td>2.0</td>\n",
       "      <td>2</td>\n",
       "      <td>0.0</td>\n",
       "      <td>0.0</td>\n",
       "      <td>strict 14 with grace period</td>\n",
       "      <td>San Francisco</td>\n",
       "      <td>225.0</td>\n",
       "      <td>150.0</td>\n",
       "      <td>2</td>\n",
       "      <td>1.0</td>\n",
       "      <td>24215</td>\n",
       "      <td>1.0</td>\n",
       "      <td>0.0</td>\n",
       "      <td>Rosy</td>\n",
       "      <td>100.0</td>\n",
       "      <td>within an hour</td>\n",
       "      <td>email ,  phone ,  reviews ,  kba</td>\n",
       "      <td>8339</td>\n",
       "      <td>0</td>\n",
       "      <td>1</td>\n",
       "      <td>2018-08-11</td>\n",
       "      <td>37.77525</td>\n",
       "      <td>-122.43637</td>\n",
       "      <td>1125</td>\n",
       "      <td>7</td>\n",
       "      <td>NaN</td>\n",
       "      <td>Western Addition</td>\n",
       "      <td>27</td>\n",
       "      <td>785.0</td>\n",
       "      <td>House</td>\n",
       "      <td>1</td>\n",
       "      <td>1</td>\n",
       "      <td>1</td>\n",
       "      <td>97.0</td>\n",
       "      <td>0.23</td>\n",
       "      <td>Entire home/apt</td>\n",
       "      <td>0.0</td>\n",
       "      <td>NaN</td>\n",
       "      <td>94117</td>\n",
       "    </tr>\n",
       "  </tbody>\n",
       "</table>\n",
       "</div>"
      ],
      "text/plain": [
       "   accommodates  \\\n",
       "0             3   \n",
       "1             2   \n",
       "2             5   \n",
       "\n",
       "                                                                                                                                                                                                 amenities  \\\n",
       "0   TV, Cable TV ,Internet,Wifi,Kitchen, Pets live on this property ,Dog(s),Heating, Family/kid friendly ,Washer,Dryer, Smoke detector , Carbon monoxide detector , First aid kit ,Essentials,Shampoo, ...   \n",
       "1   TV,Internet,Wifi,Kitchen, Free street parking ,Heating, Family/kid friendly ,Washer,Dryer, Smoke detector , Carbon monoxide detector , Fire extinguisher , Lock on bedroom door , Private entrance ...   \n",
       "2                                                    TV,Internet,Wifi,Kitchen,Heating, Family/kid friendly , Smoke detector , Carbon monoxide detector , First aid kit , Safety card , Fire extinguisher     \n",
       "\n",
       "   availability_30  availability_365  availability_60  availability_90  \\\n",
       "0                0                77                0                1   \n",
       "1               30               365               60               90   \n",
       "2               30                90               60               90   \n",
       "\n",
       "   bathrooms  bed_type  bedrooms  beds  calculated_host_listings_count  \\\n",
       "0        1.0  Real Bed       1.0   2.0                               1   \n",
       "1        4.0  Real Bed       1.0   1.0                               9   \n",
       "2        1.5  Real Bed       2.0   2.0                               2   \n",
       "\n",
       "   calculated_host_listings_count_private_rooms  \\\n",
       "0                                           0.0   \n",
       "1                                           9.0   \n",
       "2                                           0.0   \n",
       "\n",
       "   calculated_host_listings_count_shared_rooms          cancellation_policy  \\\n",
       "0                                          0.0                     moderate   \n",
       "1                                          0.0  strict 14 with grace period   \n",
       "2                                          0.0  strict 14 with grace period   \n",
       "\n",
       "            city  cleaning_fee  extra_people  guests_included  \\\n",
       "0  San Francisco         100.0          25.0                2   \n",
       "1  San Francisco          50.0          12.0                1   \n",
       "2  San Francisco         225.0         150.0                2   \n",
       "\n",
       "   host_has_profile_pic  host_id  host_identity_verified  host_is_superhost  \\\n",
       "0                   1.0     1169                     1.0                1.0   \n",
       "1                   1.0    21994                     1.0                0.0   \n",
       "2                   1.0    24215                     1.0                0.0   \n",
       "\n",
       "  host_name  host_response_rate  host_response_time  \\\n",
       "0     Holly               100.0      within an hour   \n",
       "1     Aaron               100.0  within a few hours   \n",
       "2      Rosy               100.0      within an hour   \n",
       "\n",
       "                                        host_verifications    id  \\\n",
       "0           email ,  phone ,  facebook ,  reviews ,  kba     958   \n",
       "1    email ,  phone ,  reviews ,  jumio ,  government id    8142   \n",
       "2                       email ,  phone ,  reviews ,  kba    8339   \n",
       "\n",
       "   instant_bookable  is_location_exact last_review  latitude  longitude  \\\n",
       "0                 1                  1  2019-03-16  37.76931 -122.43386   \n",
       "1                 0                  1  2018-09-12  37.76487 -122.45183   \n",
       "2                 0                  1  2018-08-11  37.77525 -122.43637   \n",
       "\n",
       "   maximum_nights  minimum_nights  monthly_price neighbourhood_cleansed  \\\n",
       "0              30               1         4200.0       Western Addition   \n",
       "1              90              32         1685.0         Haight Ashbury   \n",
       "2            1125               7            NaN       Western Addition   \n",
       "\n",
       "   number_of_reviews  price property_type  require_guest_phone_verification  \\\n",
       "0                183  170.0     Apartment                                 0   \n",
       "1                  8   65.0     Apartment                                 0   \n",
       "2                 27  785.0         House                                 1   \n",
       "\n",
       "   require_guest_profile_picture  requires_license  review_scores_rating  \\\n",
       "0                              0                 1                  97.0   \n",
       "1                              0                 1                  93.0   \n",
       "2                              1                 1                  97.0   \n",
       "\n",
       "   reviews_per_month        room_type  security_deposit  weekly_price zipcode  \n",
       "0               1.55  Entire home/apt             100.0        1120.0   94117  \n",
       "1               0.14     Private room             200.0         490.0   94117  \n",
       "2               0.23  Entire home/apt               0.0           NaN   94117  "
      ]
     },
     "metadata": {},
     "output_type": "display_data"
    }
   ],
   "source": [
    "#Preview data\n",
    "print('Data shape:',df.shape)\n",
    "display(df.head(3))"
   ]
  },
  {
   "cell_type": "markdown",
   "metadata": {},
   "source": [
    "### Quick EDA"
   ]
  },
  {
   "cell_type": "markdown",
   "metadata": {},
   "source": [
    "**Price Distribution**"
   ]
  },
  {
   "cell_type": "code",
   "execution_count": 5,
   "metadata": {},
   "outputs": [
    {
     "data": {
      "image/png": "[encoded data removed]",
      "text/plain": [
       "<IPython.core.display.Image object>"
      ]
     },
     "execution_count": 5,
     "metadata": {
      "image/png": {
       "height": 400,
       "width": 700
      }
     },
     "output_type": "execute_result"
    }
   ],
   "source": [
    "from IPython.display import Image\n",
    "from IPython.core.display import HTML \n",
    "\n",
    "Image(filename= visualizations +  '/price_hist.png', width=700, height=400)"
   ]
  },
  {
   "cell_type": "markdown",
   "metadata": {},
   "source": [
    "**Price by Month**"
   ]
  },
  {
   "cell_type": "code",
   "execution_count": 6,
   "metadata": {},
   "outputs": [
    {
     "data": {
      "image/png": "[encoded data removed]",
      "text/plain": [
       "<IPython.core.display.Image object>"
      ]
     },
     "execution_count": 6,
     "metadata": {
      "image/png": {
       "height": 400,
       "width": 700
      }
     },
     "output_type": "execute_result"
    }
   ],
   "source": [
    "Image(filename= visualizations +  '/month_price_box.png', width=700, height=400)"
   ]
  },
  {
   "cell_type": "markdown",
   "metadata": {},
   "source": [
    "**Price by Day**"
   ]
  },
  {
   "cell_type": "code",
   "execution_count": 7,
   "metadata": {},
   "outputs": [
    {
     "data": {
      "image/png": "[encoded data removed]",
      "text/plain": [
       "<IPython.core.display.Image object>"
      ]
     },
     "execution_count": 7,
     "metadata": {
      "image/png": {
       "height": 400,
       "width": 700
      }
     },
     "output_type": "execute_result"
    }
   ],
   "source": [
    "Image(filename= visualizations +  '/weekday_price_box.png', width=700, height=400)"
   ]
  },
  {
   "cell_type": "markdown",
   "metadata": {},
   "source": [
    "**Remove outliers**"
   ]
  },
  {
   "cell_type": "code",
   "execution_count": 8,
   "metadata": {},
   "outputs": [
    {
     "name": "stdout",
     "output_type": "stream",
     "text": [
      "Length of df w/ outliers: 126258\n",
      "Length of df w/o outliers: 116180\n"
     ]
    }
   ],
   "source": [
    "#Calculate IQR\n",
    "q1,q3 = np.quantile(df.price, [.25,.75])\n",
    "IQR = q3 - q1\n",
    "\n",
    "#Set upper and lower limits for outliers to be removed\n",
    "upper = q3 + (IQR * 1.5)\n",
    "lower = q1 - (IQR * 1.5)\n",
    "\n",
    "print('Length of df w/ outliers:',len(df))\n",
    "print('Length of df w/o outliers:',len(df.loc[df.price <= upper]))\n",
    "\n",
    "df = df.loc[df.price <= upper]"
   ]
  },
  {
   "cell_type": "code",
   "execution_count": 9,
   "metadata": {},
   "outputs": [
    {
     "data": {
      "text/plain": [
       "array([  9776019,    576134,   3363650,  11168959,  53195251,  20678148,\n",
       "        40214811,  58350764,  30014099, 331406546,   1934331, 209925587],\n",
       "      dtype=int64)"
      ]
     },
     "execution_count": 9,
     "metadata": {},
     "output_type": "execute_result"
    }
   ],
   "source": [
    "df.host_id.loc[df.price <= 20].unique()"
   ]
  },
  {
   "cell_type": "markdown",
   "metadata": {},
   "source": [
    "### Feature Engineering"
   ]
  },
  {
   "cell_type": "markdown",
   "metadata": {},
   "source": [
    "### Feature Engineering"
   ]
  },
  {
   "cell_type": "markdown",
   "metadata": {},
   "source": [
    "**Encode Neighborhoods**"
   ]
  },
  {
   "cell_type": "code",
   "execution_count": 10,
   "metadata": {},
   "outputs": [
    {
     "data": {
      "text/html": [
       "<div>\n",
       "<style scoped>\n",
       "    .dataframe tbody tr th:only-of-type {\n",
       "        vertical-align: middle;\n",
       "    }\n",
       "\n",
       "    .dataframe tbody tr th {\n",
       "        vertical-align: top;\n",
       "    }\n",
       "\n",
       "    .dataframe thead th {\n",
       "        text-align: right;\n",
       "    }\n",
       "</style>\n",
       "<table border=\"1\" class=\"dataframe\">\n",
       "  <thead>\n",
       "    <tr style=\"text-align: right;\">\n",
       "      <th></th>\n",
       "      <th>neighbourhood_cleansed_encoded</th>\n",
       "    </tr>\n",
       "  </thead>\n",
       "  <tbody>\n",
       "    <tr>\n",
       "      <th>0</th>\n",
       "      <td>177.720127</td>\n",
       "    </tr>\n",
       "    <tr>\n",
       "      <th>1</th>\n",
       "      <td>159.540691</td>\n",
       "    </tr>\n",
       "    <tr>\n",
       "      <th>3</th>\n",
       "      <td>177.720127</td>\n",
       "    </tr>\n",
       "    <tr>\n",
       "      <th>4</th>\n",
       "      <td>172.887796</td>\n",
       "    </tr>\n",
       "    <tr>\n",
       "      <th>5</th>\n",
       "      <td>177.799610</td>\n",
       "    </tr>\n",
       "    <tr>\n",
       "      <th>6</th>\n",
       "      <td>172.887796</td>\n",
       "    </tr>\n",
       "    <tr>\n",
       "      <th>7</th>\n",
       "      <td>159.540691</td>\n",
       "    </tr>\n",
       "    <tr>\n",
       "      <th>8</th>\n",
       "      <td>177.720127</td>\n",
       "    </tr>\n",
       "    <tr>\n",
       "      <th>9</th>\n",
       "      <td>148.852899</td>\n",
       "    </tr>\n",
       "    <tr>\n",
       "      <th>10</th>\n",
       "      <td>159.540691</td>\n",
       "    </tr>\n",
       "    <tr>\n",
       "      <th>11</th>\n",
       "      <td>185.254452</td>\n",
       "    </tr>\n",
       "    <tr>\n",
       "      <th>12</th>\n",
       "      <td>163.374951</td>\n",
       "    </tr>\n",
       "    <tr>\n",
       "      <th>13</th>\n",
       "      <td>172.887796</td>\n",
       "    </tr>\n",
       "    <tr>\n",
       "      <th>14</th>\n",
       "      <td>187.038148</td>\n",
       "    </tr>\n",
       "    <tr>\n",
       "      <th>15</th>\n",
       "      <td>177.720127</td>\n",
       "    </tr>\n",
       "  </tbody>\n",
       "</table>\n",
       "</div>"
      ],
      "text/plain": [
       "    neighbourhood_cleansed_encoded\n",
       "0                       177.720127\n",
       "1                       159.540691\n",
       "3                       177.720127\n",
       "4                       172.887796\n",
       "5                       177.799610\n",
       "6                       172.887796\n",
       "7                       159.540691\n",
       "8                       177.720127\n",
       "9                       148.852899\n",
       "10                      159.540691\n",
       "11                      185.254452\n",
       "12                      163.374951\n",
       "13                      172.887796\n",
       "14                      187.038148\n",
       "15                      177.720127"
      ]
     },
     "metadata": {},
     "output_type": "display_data"
    }
   ],
   "source": [
    "#Init empty dict to store encoded values\n",
    "encode = {}\n",
    "\n",
    "#Store encodings which will be mean price for each neighborhood\n",
    "encode['neighbourhood_cleansed'] = df.groupby('neighbourhood_cleansed')['price'].mean()\n",
    "\n",
    "#Map dictionary unto data fram\n",
    "for k,v in encode.items():\n",
    "    df[k + '_encoded'] = df[k].map(v)\n",
    "    \n",
    "#Drop original neighbourhood_cleansed from df\n",
    "df.drop('neighbourhood_cleansed', axis = 1, inplace = True)\n",
    "\n",
    "#Check\n",
    "display(df.filter(regex='neighbourhood_cleansed').head(15))   "
   ]
  },
  {
   "cell_type": "markdown",
   "metadata": {},
   "source": [
    "**Add amenities_count**"
   ]
  },
  {
   "cell_type": "code",
   "execution_count": 11,
   "metadata": {},
   "outputs": [
    {
     "name": "stdout",
     "output_type": "stream",
     "text": [
      "(116180, 48)\n"
     ]
    }
   ],
   "source": [
    "#Get a count of amenities\n",
    "df['amenities_count'] = df['amenities'].str.count(',') + 1 #count commas and add 1 for last word\n",
    "\n",
    "#Drop amenities column, host_verifications,None. Sort cols alphabetically\n",
    "df.drop(columns = ['amenities'],axis = 1, inplace = True)\n",
    "df = df.reindex(sorted(df.columns), axis = 1)\n",
    "\n",
    "#Check size of df\n",
    "print(df.shape)"
   ]
  },
  {
   "cell_type": "markdown",
   "metadata": {},
   "source": [
    "# Feature Selection"
   ]
  },
  {
   "cell_type": "markdown",
   "metadata": {},
   "source": [
    "**Drop weekly and monthly price**"
   ]
  },
  {
   "cell_type": "code",
   "execution_count": 12,
   "metadata": {},
   "outputs": [],
   "source": [
    "df.drop(['weekly_price', 'monthly_price'], axis = 1, inplace = True)"
   ]
  },
  {
   "cell_type": "markdown",
   "metadata": {},
   "source": [
    "**Correlation matrix**"
   ]
  },
  {
   "cell_type": "code",
   "execution_count": 13,
   "metadata": {},
   "outputs": [
    {
     "data": {
      "text/plain": [
       "['accommodates',\n",
       " 'amenities_count',\n",
       " 'bedrooms',\n",
       " 'beds',\n",
       " 'cleaning_fee',\n",
       " 'guests_included',\n",
       " 'neighbourhood_cleansed_encoded',\n",
       " 'price',\n",
       " 'security_deposit',\n",
       " 'room_type',\n",
       " 'property_type',\n",
       " 'bed_type']"
      ]
     },
     "execution_count": 13,
     "metadata": {},
     "output_type": "execute_result"
    }
   ],
   "source": [
    "#Create corr\n",
    "corr = df.corr()\n",
    "\n",
    "#Subset features with .2  correlation with target\n",
    "features = corr[(corr['price'] > .2) |(corr['price'] < -.2)].index.tolist()\n",
    "\n",
    "#Add meaningful categorical variables\n",
    "features.extend(['room_type', 'property_type', 'bed_type'])\n",
    "features"
   ]
  },
  {
   "cell_type": "markdown",
   "metadata": {},
   "source": [
    "## Inspect Feature Correlations"
   ]
  },
  {
   "cell_type": "code",
   "execution_count": 14,
   "metadata": {},
   "outputs": [
    {
     "data": {
      "text/plain": [
       "<matplotlib.axes._subplots.AxesSubplot at 0x15da215b908>"
      ]
     },
     "execution_count": 14,
     "metadata": {},
     "output_type": "execute_result"
    },
    {
     "data": {
      "image/png": "[encoded data removed]",
      "text/plain": [
       "<Figure size 864x864 with 2 Axes>"
      ]
     },
     "metadata": {},
     "output_type": "display_data"
    }
   ],
   "source": [
    "#Create figure\n",
    "f, ax = plt.subplots(figsize = (12,12))\n",
    "\n",
    "#Create corr\n",
    "corr = df[features].corr()\n",
    "\n",
    "#Create mask\n",
    "matrix = np.triu(m = corr)\n",
    "\n",
    "#Plot heatmap\n",
    "sns.heatmap(corr, ax=ax, annot=True, fmt='.1g', square=True,mask = matrix,\n",
    "            vmin = -1, vmax=1, center = 0,cmap = 'coolwarm',\n",
    "            linewidths=.5, linecolor='white')"
   ]
  },
  {
   "cell_type": "code",
   "execution_count": 15,
   "metadata": {},
   "outputs": [],
   "source": [
    "#Update df\n",
    "df = df[features]"
   ]
  },
  {
   "cell_type": "raw",
   "metadata": {},
   "source": [
    "### Write to CSV"
   ]
  },
  {
   "cell_type": "markdown",
   "metadata": {},
   "source": [
    "**Check data**"
   ]
  },
  {
   "cell_type": "code",
   "execution_count": 16,
   "metadata": {},
   "outputs": [
    {
     "name": "stdout",
     "output_type": "stream",
     "text": [
      "Data shape: (116180, 12)\n"
     ]
    },
    {
     "data": {
      "text/html": [
       "<div>\n",
       "<style scoped>\n",
       "    .dataframe tbody tr th:only-of-type {\n",
       "        vertical-align: middle;\n",
       "    }\n",
       "\n",
       "    .dataframe tbody tr th {\n",
       "        vertical-align: top;\n",
       "    }\n",
       "\n",
       "    .dataframe thead th {\n",
       "        text-align: right;\n",
       "    }\n",
       "</style>\n",
       "<table border=\"1\" class=\"dataframe\">\n",
       "  <thead>\n",
       "    <tr style=\"text-align: right;\">\n",
       "      <th></th>\n",
       "      <th>accommodates</th>\n",
       "      <th>amenities_count</th>\n",
       "      <th>bedrooms</th>\n",
       "      <th>beds</th>\n",
       "      <th>cleaning_fee</th>\n",
       "      <th>guests_included</th>\n",
       "      <th>neighbourhood_cleansed_encoded</th>\n",
       "      <th>price</th>\n",
       "      <th>security_deposit</th>\n",
       "      <th>room_type</th>\n",
       "      <th>property_type</th>\n",
       "      <th>bed_type</th>\n",
       "    </tr>\n",
       "  </thead>\n",
       "  <tbody>\n",
       "    <tr>\n",
       "      <th>0</th>\n",
       "      <td>3</td>\n",
       "      <td>26</td>\n",
       "      <td>1.0</td>\n",
       "      <td>2.0</td>\n",
       "      <td>100.0</td>\n",
       "      <td>2</td>\n",
       "      <td>177.720127</td>\n",
       "      <td>170.0</td>\n",
       "      <td>100.0</td>\n",
       "      <td>Entire home/apt</td>\n",
       "      <td>Apartment</td>\n",
       "      <td>Real Bed</td>\n",
       "    </tr>\n",
       "    <tr>\n",
       "      <th>1</th>\n",
       "      <td>2</td>\n",
       "      <td>16</td>\n",
       "      <td>1.0</td>\n",
       "      <td>1.0</td>\n",
       "      <td>50.0</td>\n",
       "      <td>1</td>\n",
       "      <td>159.540691</td>\n",
       "      <td>65.0</td>\n",
       "      <td>200.0</td>\n",
       "      <td>Private room</td>\n",
       "      <td>Apartment</td>\n",
       "      <td>Real Bed</td>\n",
       "    </tr>\n",
       "    <tr>\n",
       "      <th>3</th>\n",
       "      <td>6</td>\n",
       "      <td>33</td>\n",
       "      <td>2.0</td>\n",
       "      <td>3.0</td>\n",
       "      <td>125.0</td>\n",
       "      <td>1</td>\n",
       "      <td>177.720127</td>\n",
       "      <td>255.0</td>\n",
       "      <td>0.0</td>\n",
       "      <td>Entire home/apt</td>\n",
       "      <td>Apartment</td>\n",
       "      <td>Real Bed</td>\n",
       "    </tr>\n",
       "    <tr>\n",
       "      <th>4</th>\n",
       "      <td>3</td>\n",
       "      <td>34</td>\n",
       "      <td>1.0</td>\n",
       "      <td>2.0</td>\n",
       "      <td>50.0</td>\n",
       "      <td>2</td>\n",
       "      <td>172.887796</td>\n",
       "      <td>139.0</td>\n",
       "      <td>0.0</td>\n",
       "      <td>Private room</td>\n",
       "      <td>Condominium</td>\n",
       "      <td>Real Bed</td>\n",
       "    </tr>\n",
       "    <tr>\n",
       "      <th>5</th>\n",
       "      <td>2</td>\n",
       "      <td>23</td>\n",
       "      <td>1.0</td>\n",
       "      <td>1.0</td>\n",
       "      <td>50.0</td>\n",
       "      <td>1</td>\n",
       "      <td>177.799610</td>\n",
       "      <td>135.0</td>\n",
       "      <td>2.0</td>\n",
       "      <td>Private room</td>\n",
       "      <td>House</td>\n",
       "      <td>Real Bed</td>\n",
       "    </tr>\n",
       "  </tbody>\n",
       "</table>\n",
       "</div>"
      ],
      "text/plain": [
       "   accommodates  amenities_count  bedrooms  beds  cleaning_fee  \\\n",
       "0             3               26       1.0   2.0         100.0   \n",
       "1             2               16       1.0   1.0          50.0   \n",
       "3             6               33       2.0   3.0         125.0   \n",
       "4             3               34       1.0   2.0          50.0   \n",
       "5             2               23       1.0   1.0          50.0   \n",
       "\n",
       "   guests_included  neighbourhood_cleansed_encoded  price  security_deposit  \\\n",
       "0                2                      177.720127  170.0             100.0   \n",
       "1                1                      159.540691   65.0             200.0   \n",
       "3                1                      177.720127  255.0               0.0   \n",
       "4                2                      172.887796  139.0               0.0   \n",
       "5                1                      177.799610  135.0               2.0   \n",
       "\n",
       "         room_type property_type  bed_type  \n",
       "0  Entire home/apt     Apartment  Real Bed  \n",
       "1     Private room     Apartment  Real Bed  \n",
       "3  Entire home/apt     Apartment  Real Bed  \n",
       "4     Private room   Condominium  Real Bed  \n",
       "5     Private room         House  Real Bed  "
      ]
     },
     "metadata": {},
     "output_type": "display_data"
    }
   ],
   "source": [
    "#Check data before writing to csv\n",
    "print('Data shape:',df.shape)\n",
    "display(df.head())"
   ]
  },
  {
   "cell_type": "markdown",
   "metadata": {},
   "source": [
    "**Write to CSV**"
   ]
  },
  {
   "cell_type": "code",
   "execution_count": 17,
   "metadata": {},
   "outputs": [],
   "source": [
    "#Set path to save files\n",
    "path = r'C:\\Users\\kishe\\Documents\\Data Science\\Projects\\Python Projects\\In Progress\\Airbnb - San Francisco Listings Analysis\\Data\\03_Processed'\n",
    "\n",
    "#Write files\n",
    "df.to_csv(path + '/2020_0715_Listings_Processed.csv')"
   ]
  }
 ],
 "metadata": {
  "kernelspec": {
   "display_name": "Airbnb_Listings",
   "language": "python",
   "name": "airbnb_listings"
  },
  "language_info": {
   "codemirror_mode": {
    "name": "ipython",
    "version": 3
   },
   "file_extension": ".py",
   "mimetype": "text/x-python",
   "name": "python",
   "nbconvert_exporter": "python",
   "pygments_lexer": "ipython3",
   "version": "3.7.7"
  }
 },
 "nbformat": 4,
 "nbformat_minor": 4
}
