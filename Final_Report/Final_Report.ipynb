{
 "cells": [
  {
   "cell_type": "markdown",
   "metadata": {},
   "source": [
    "# IN PROGRESS"
   ]
  },
  {
   "cell_type": "code",
   "execution_count": 1,
   "metadata": {},
   "outputs": [
    {
     "data": {
      "text/html": [
       "<script>\n",
       "code_show=true; \n",
       "function code_toggle() {\n",
       " if (code_show){\n",
       " $('div.input').hide();\n",
       " } else {\n",
       " $('div.input').show();\n",
       " }\n",
       " code_show = !code_show\n",
       "} \n",
       "$( document ).ready(code_toggle);\n",
       "</script>\n",
       "<form action=\"javascript:code_toggle()\"><input type=\"submit\" value=\"Click here to toggle on/off the raw code.\"></form>"
      ],
      "text/plain": [
       "<IPython.core.display.HTML object>"
      ]
     },
     "execution_count": 1,
     "metadata": {},
     "output_type": "execute_result"
    }
   ],
   "source": [
    "from IPython.display import HTML\n",
    "\n",
    "HTML('''<script>\n",
    "code_show=true; \n",
    "function code_toggle() {\n",
    " if (code_show){\n",
    " $('div.input').hide();\n",
    " } else {\n",
    " $('div.input').show();\n",
    " }\n",
    " code_show = !code_show\n",
    "} \n",
    "$( document ).ready(code_toggle);\n",
    "</script>\n",
    "<form action=\"javascript:code_toggle()\"><input type=\"submit\" value=\"Click here to toggle on/off the raw code.\"></form>''')"
   ]
  },
  {
   "cell_type": "code",
   "execution_count": 2,
   "metadata": {},
   "outputs": [],
   "source": [
    "###Set notebook preferences##\n",
    "#Read in some libraries\n",
    "import pandas as pd\n",
    "import numpy as np\n",
    "import matplotlib.pyplot as plt\n",
    "import tensorflow as tf\n",
    "from IPython.display import Image\n",
    "\n",
    "#Set notebook preferences - pandas\n",
    "pd.set_option(\"display.max_columns\", 101)\n",
    "\n",
    "#Set path to modeling folder\n",
    "model_viz = r'C:\\Users\\kishe\\Documents\\Data Science\\Projects\\Python Projects\\In Progress\\Spain Hourly Energy Demand and Weather\\Visualizations\\Modeling'\n",
    "\n",
    "#Set path to data\n",
    "path = r'C:\\Users\\kishe\\Documents\\Data Science\\Projects\\Python Projects\\In Progress\\Spain Hourly Energy Demand and Weather\\Data\\02_Cleaned_Data'"
   ]
  },
  {
   "cell_type": "markdown",
   "metadata": {},
   "source": [
    "# 1. Introduction"
   ]
  },
  {
   "cell_type": "markdown",
   "metadata": {},
   "source": [
    "Airbnb is easily one of the most successful start-ups in recent memory. Airbnbn's business model has been a disruptive force in the short-term rental market and was valued at \\\\$31 billion prior to the Corona Virus epidemic ([source](https://www.reuters.com/article/us-airbnb-debt/airbnbs-new-1-billion-investment-comes-at-lower-valuation-sources-idUSKBN21P3IM#:~:text=(Reuters)%20%2D%20Airbnb%20Inc's%20new,the%20matter%20said%20on%20Tuesday.&text=Airbnb%20was%20valued%20at%20%2431,recent%20private%20fund%2Draising%20round.)).\n",
    "Howeevern in a recent artivle in April(just after massive lockdowns swept the world), the industry titans valuation has plummeted to nearly half ([source](https://skift.com/2020/04/08/airbnbs-valuation-almost-halved-to-18-billion/)).\n",
    "\n",
    "In this analysis, I will be exploring the Airbnb rental market in San Francisco from 7/1/2018 through 6/7/2020. I intend to develop a better understanding about the impact COVID-19 is having on the SF market."
   ]
  },
  {
   "cell_type": "markdown",
   "metadata": {},
   "source": [
    "## 1.1 Intent"
   ]
  },
  {
   "cell_type": "markdown",
   "metadata": {},
   "source": [
    "## 1.2 Objectives"
   ]
  },
  {
   "cell_type": "markdown",
   "metadata": {},
   "source": [
    "- Conduct an analysis of the impact COVID-19 has had on daily gross rental income in the San Francisco area since the lockdown began on 3/19/2020. Forecast 2020 Q2, Q3, and Q4 losses if lockdown conditions remain the same for the rest of the year.\n",
    "- Create a per night rental price predictor for Airbnb properties in San Francisco. Extract out the most pertinent features that predict prices best. "
   ]
  },
  {
   "cell_type": "markdown",
   "metadata": {},
   "source": [
    "## 1.3 Impact"
   ]
  },
  {
   "cell_type": "markdown",
   "metadata": {},
   "source": [
    "I hope to use the information gained from the analysis to provide the following:\n",
    "- Proojectug losses for the year will help company leadership manage expecations for profist and table/priotitze certain projects over others.\n",
    "- Provide first-time hosts a guide of features/services to consider including in their Airbnb listing to increase the liklihood of interests from tourists as well as justify a higher rental price. Developing a good price predictor will also provide renters a range of acceptavble prices to list their property for(as compared to similar properties in SF)"
   ]
  },
  {
   "cell_type": "markdown",
   "metadata": {},
   "source": [
    "# 2. Table of Contents"
   ]
  },
  {
   "cell_type": "markdown",
   "metadata": {},
   "source": [
    "1. **Introduction**<br>\n",
    "   1.1 Intent<br>\n",
    "   1.2 Objectives<br>\n",
    "   1.3 Impact<br>\n",
    "2. **Table of Contents**<br>\n",
    "3. **Data Overview**<br>\n",
    "    3.1 About the Data<br>\n",
    "    3.2 Preview Data<br>\n",
    "    3.3 Data Overview - Metrics<br>\n",
    "4. **Impact of COVID 19 on Gross Rental Revenue**<br>\n",
    "    4.1 Methodology<br>\n",
    "    4.2 Results<br>\n",
    "    4.3 Decision Recommendations<br>\n",
    "5. **Airbnb Rental Prices in San Francisco**<br>\n",
    "    5.1 Methodology<br>\n",
    "    5.2 Original TSO Forecast<br>\n",
    "    5.3 Mulitvariate XGBRegressor Forecast<br>\n",
    "    5.4 Decision Recommendations<br>\n",
    "6. **Conclusion**<br>\n",
    "    6.1 Takeaways<br>\n",
    "    6.2 Future Research<br>"
   ]
  },
  {
   "cell_type": "markdown",
   "metadata": {},
   "source": [
    "# 3. Data Overview"
   ]
  },
  {
   "cell_type": "markdown",
   "metadata": {},
   "source": [
    "## 3.1 About the Data"
   ]
  },
  {
   "cell_type": "code",
   "execution_count": null,
   "metadata": {},
   "outputs": [],
   "source": [
    "## 3.2 Preview Data"
   ]
  },
  {
   "cell_type": "code",
   "execution_count": null,
   "metadata": {},
   "outputs": [],
   "source": [
    "## 3.3 Data Overview - Metrics"
   ]
  }
 ],
 "metadata": {
  "kernelspec": {
   "display_name": "Airbnb_Listings",
   "language": "python",
   "name": "airbnb_listings"
  },
  "language_info": {
   "codemirror_mode": {
    "name": "ipython",
    "version": 3
   },
   "file_extension": ".py",
   "mimetype": "text/x-python",
   "name": "python",
   "nbconvert_exporter": "python",
   "pygments_lexer": "ipython3",
   "version": "3.7.7"
  }
 },
 "nbformat": 4,
 "nbformat_minor": 4
}
